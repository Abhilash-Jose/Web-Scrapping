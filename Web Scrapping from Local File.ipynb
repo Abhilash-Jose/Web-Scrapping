{
 "cells": [
  {
   "cell_type": "markdown",
   "id": "fa10b349-5f19-4acf-9def-c4e54041e151",
   "metadata": {},
   "source": [
    "# Aim: Get the Course Name and its Fees"
   ]
  },
  {
   "cell_type": "raw",
   "id": "015546a4-c9ef-4d5b-b62d-010fac7fe071",
   "metadata": {},
   "source": [
    "pip install beautifulsoup4\n",
    "pip install --upgrade pip\n",
    "pip install lxml\n",
    "pip install requests"
   ]
  },
  {
   "cell_type": "markdown",
   "id": "700428c4-22d2-4d65-a0d6-03ed01b1dfd6",
   "metadata": {},
   "source": [
    "method - parser method ( there are different parser ) - Here we are using lxml"
   ]
  },
  {
   "cell_type": "code",
   "execution_count": null,
   "id": "cb51edf4-4d4e-46ad-828b-fc56d4464bf2",
   "metadata": {},
   "outputs": [],
   "source": [
    "from bs4 import BeautifulSoup"
   ]
  },
  {
   "cell_type": "raw",
   "id": "e6dcf9ed-0172-4beb-8494-375d633d4390",
   "metadata": {},
   "source": [
    "open(\n",
    "    file,\n",
    "    mode='r',\n",
    "    buffering=-1,\n",
    "    encoding=None,\n",
    "    errors=None,\n",
    "    newline=None,\n",
    "    closefd=True,\n",
    "    opener=None,\n",
    ")\n",
    "Docstring:\n",
    "Open file and return a stream.  Raise OSError upon failure."
   ]
  },
  {
   "cell_type": "code",
   "execution_count": 2,
   "id": "453f8e54-cc5b-4e88-9378-e80951e0a154",
   "metadata": {},
   "outputs": [
    {
     "name": "stdout",
     "output_type": "stream",
     "text": [
      "<!doctype html>\n",
      "<html lang=\"en\">\n",
      "   <head>\n",
      "      <meta charset=\"utf-8\">\n",
      "      <meta name=\"viewport\" content=\"width=device-width, initial-scale=1, shrink-to-fit=no\">\n",
      "      <link rel=\"stylesheet\" href=\"https://stackpath.bootstrapcdn.com/bootstrap/4.5.2/css/bootstrap.min.css\" integrity=\"sha384-JcKb8q3iqJ61gNV9KGb8thSsNjpSL0n8PARn9HuZOnIxN0hoP+VmmDGMN5t9UJ0Z\" crossorigin=\"anonymous\">\n",
      "      <title>AJ Learning - My Courses</title>\n",
      "   </head>\n",
      "   <body>\n",
      "      <h1>Welcome to AJ Learning!</h1>\n",
      "      \n",
      "      <!-- Python Courses -->\n",
      "      <div class=\"card\" id=\"card-python-for-beginners\">\n",
      "         <div class=\"card-header\">\n",
      "            Course No. 1\n",
      "         </div>\n",
      "         <div class=\"card-body\">\n",
      "            <h5 class=\"card-title\">Python for Beginners</h5>\n",
      "            <p class=\"card-text\">If you are new to Python, this is the course that you should buy! <br><strong>Duration:</strong> 4 weeks</p>\n",
      "            <a href=\"#\" class=\"btn btn-primary\">Start for 20$</a>\n",
      "         </div>\n",
      "      </div>\n",
      "      \n",
      "      <div class=\"card\" id=\"card-python-web-development\">\n",
      "         <div class=\"card-header\">\n",
      "            Course No. 2\n",
      "         </div>\n",
      "         <div class=\"card-body\">\n",
      "            <h5 class=\"card-title\">Python Web Development</h5>\n",
      "            <p class=\"card-text\">If you feel confident with Python, you are ready to learn how to create your own website! <br><strong>Duration:</strong> 6 weeks</p>\n",
      "            <a href=\"#\" class=\"btn btn-primary\">Start for 50$</a>\n",
      "         </div>\n",
      "      </div>\n",
      "      \n",
      "      <div class=\"card\" id=\"card-python-machine-learning\">\n",
      "         <div class=\"card-header\">\n",
      "            Course No. 3\n",
      "         </div>\n",
      "         <div class=\"card-body\">\n",
      "            <h5 class=\"card-title\">Python Machine Learning</h5>\n",
      "            <p class=\"card-text\">Become a Python Machine Learning master! <br><strong>Duration:</strong> 8 weeks</p>\n",
      "            <a href=\"#\" class=\"btn btn-primary\">Start for 100$</a>\n",
      "         </div>\n",
      "      </div>\n",
      "      \n",
      "      <!-- Data Science Courses -->\n",
      "      <div class=\"card\" id=\"card-data-science-basics\">\n",
      "         <div class=\"card-header\">\n",
      "            Course No. 4\n",
      "         </div>\n",
      "         <div class=\"card-body\">\n",
      "            <h5 class=\"card-title\">Data Science Basics</h5>\n",
      "            <p class=\"card-text\">Learn the fundamental concepts of data science, including data cleaning and data visualization. <br><strong>Duration:</strong> 5 weeks</p>\n",
      "            <a href=\"#\" class=\"btn btn-primary\">Start for 30$</a>\n",
      "         </div>\n",
      "      </div>\n",
      "      \n",
      "      <div class=\"card\" id=\"card-statistics-for-data-science\">\n",
      "         <div class=\"card-header\">\n",
      "            Course No. 5\n",
      "         </div>\n",
      "         <div class=\"card-body\">\n",
      "            <h5 class=\"card-title\">Statistics for Data Science</h5>\n",
      "            <p class=\"card-text\">Master the key statistical techniques needed for data science. <br><strong>Duration:</strong> 6 weeks</p>\n",
      "            <a href=\"#\" class=\"btn btn-primary\">Start for 40$</a>\n",
      "         </div>\n",
      "      </div>\n",
      "      \n",
      "      <div class=\"card\" id=\"card-data-visualization\">\n",
      "         <div class=\"card-header\">\n",
      "            Course No. 6\n",
      "         </div>\n",
      "         <div class=\"card-body\">\n",
      "            <h5 class=\"card-title\">Data Visualization with Python</h5>\n",
      "            <p class=\"card-text\">Learn how to use Python libraries like Matplotlib and Seaborn to visualize data effectively. <br><strong>Duration:</strong> 4 weeks</p>\n",
      "            <a href=\"#\" class=\"btn btn-primary\">Start for 25$</a>\n",
      "         </div>\n",
      "      </div>\n",
      "\n",
      "      <div class=\"card\" id=\"card-machine-learning-for-data-science\">\n",
      "         <div class=\"card-header\">\n",
      "            Course No. 7\n",
      "         </div>\n",
      "         <div class=\"card-body\">\n",
      "            <h5 class=\"card-title\">Machine Learning for Data Science</h5>\n",
      "            <p class=\"card-text\">Explore key machine learning algorithms and apply them to real-world datasets. <br><strong>Duration:</strong> 8 weeks</p>\n",
      "            <a href=\"#\" class=\"btn btn-primary\">Start for 120$</a>\n",
      "         </div>\n",
      "      </div>\n",
      "\n",
      "      <div class=\"card\" id=\"card-data-analysis-with-pandas\">\n",
      "         <div class=\"card-header\">\n",
      "            Course No. 8\n",
      "         </div>\n",
      "         <div class=\"card-body\">\n",
      "            <h5 class=\"card-title\">Data Analysis with Pandas</h5>\n",
      "            <p class=\"card-text\">Learn how to use Pandas for data analysis and manipulation in Python. <br><strong>Duration:</strong> 3 weeks</p>\n",
      "            <a href=\"#\" class=\"btn btn-primary\">Start for 20$</a>\n",
      "         </div>\n",
      "      </div>\n",
      "\n",
      "   </body>\n",
      "</html>\n",
      "\n"
     ]
    }
   ],
   "source": [
    "with open(file=\"website.html\",mode=\"r\") as html_file:\n",
    "    content= html_file.read()\n",
    "    print(content)"
   ]
  },
  {
   "cell_type": "code",
   "execution_count": 3,
   "id": "81f8b235-faf1-4e57-b6c4-bc1258a0c7fc",
   "metadata": {},
   "outputs": [
    {
     "name": "stdout",
     "output_type": "stream",
     "text": [
      "Course No. 1\n",
      "Course_name: Python for Beginners\n",
      "Course_fee:20$\n",
      "\n",
      "Course No. 2\n",
      "Course_name: Python Web Development\n",
      "Course_fee:50$\n",
      "\n",
      "Course No. 3\n",
      "Course_name: Python Machine Learning\n",
      "Course_fee:100$\n",
      "\n",
      "Course No. 4\n",
      "Course_name: Data Science Basics\n",
      "Course_fee:30$\n",
      "\n",
      "Course No. 5\n",
      "Course_name: Statistics for Data Science\n",
      "Course_fee:40$\n",
      "\n",
      "Course No. 6\n",
      "Course_name: Data Visualization with Python\n",
      "Course_fee:25$\n",
      "\n",
      "Course No. 7\n",
      "Course_name: Machine Learning for Data Science\n",
      "Course_fee:120$\n",
      "\n",
      "Course No. 8\n",
      "Course_name: Data Analysis with Pandas\n",
      "Course_fee:20$\n",
      "\n"
     ]
    }
   ],
   "source": [
    "soup1 = BeautifulSoup(markup=content, features=\"lxml\")\n",
    "course_sections = soup1.find_all(name=\"div\",class_=\"card\")\n",
    "for course in course_sections:\n",
    "    course_no= course.find(name=\"div\",class_=\"card-header\").text.strip()\n",
    "    course_name= course.find(name=\"h5\", class_=\"card-title\").text\n",
    "    course_fee= course.a.text.split()[2]\n",
    "    print(course_no)\n",
    "    print(f\"Course_name: {course_name}\")\n",
    "    print(f\"Course_fee:{course_fee}\")\n",
    "    print()"
   ]
  },
  {
   "cell_type": "code",
   "execution_count": null,
   "id": "5d6a52ec-ce45-4a23-b101-650ba6b2fb79",
   "metadata": {},
   "outputs": [],
   "source": []
  }
 ],
 "metadata": {
  "kernelspec": {
   "display_name": "Python 3 (ipykernel)",
   "language": "python",
   "name": "python3"
  },
  "language_info": {
   "codemirror_mode": {
    "name": "ipython",
    "version": 3
   },
   "file_extension": ".py",
   "mimetype": "text/x-python",
   "name": "python",
   "nbconvert_exporter": "python",
   "pygments_lexer": "ipython3",
   "version": "3.11.7"
  }
 },
 "nbformat": 4,
 "nbformat_minor": 5
}
