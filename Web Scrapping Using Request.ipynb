{
 "cells": [
  {
   "cell_type": "markdown",
   "id": "fa10b349-5f19-4acf-9def-c4e54041e151",
   "metadata": {},
   "source": [
    "# Aim: Get the latest jobs from Times Jobs"
   ]
  },
  {
   "cell_type": "raw",
   "id": "015546a4-c9ef-4d5b-b62d-010fac7fe071",
   "metadata": {},
   "source": [
    "pip install beautifulsoup4\n",
    "pip install --upgrade pip\n",
    "pip install lxml\n",
    "pip install requests"
   ]
  },
  {
   "cell_type": "markdown",
   "id": "700428c4-22d2-4d65-a0d6-03ed01b1dfd6",
   "metadata": {},
   "source": [
    "method - parser method ( there are different parser ) - Here we are using lxml"
   ]
  },
  {
   "cell_type": "code",
   "execution_count": 2,
   "id": "cb51edf4-4d4e-46ad-828b-fc56d4464bf2",
   "metadata": {},
   "outputs": [],
   "source": [
    "from bs4 import BeautifulSoup"
   ]
  },
  {
   "cell_type": "code",
   "execution_count": 3,
   "id": "47952b2c-899d-46ac-9e9a-884405f41a55",
   "metadata": {},
   "outputs": [],
   "source": [
    "import requests #requesting information from another website "
   ]
  },
  {
   "cell_type": "code",
   "execution_count": 4,
   "id": "ca3f7d84-5d0b-49ea-8fa3-0954a5e0fb52",
   "metadata": {},
   "outputs": [],
   "source": [
    "#200 means success, but we want the html file so we write .text"
   ]
  },
  {
   "cell_type": "code",
   "execution_count": 5,
   "id": "e13b7cbd-85d1-47bc-8f2f-d4a29e0c983e",
   "metadata": {},
   "outputs": [],
   "source": [
    "link=\"https://www.timesjobs.com/candidate/job-search.html?searchType=personalizedSearch&from=submit&searchTextSrc=&searchTextText=&txtKeywords=python&txtLocation=\""
   ]
  },
  {
   "cell_type": "code",
   "execution_count": 6,
   "id": "8926dda7-c3c9-4302-b106-d75e900268f3",
   "metadata": {},
   "outputs": [
    {
     "name": "stdin",
     "output_type": "stream",
     "text": [
      "Enter a skill you want to filter out: git\n"
     ]
    },
    {
     "name": "stdout",
     "output_type": "stream",
     "text": [
      "\n",
      "1. Company name: Virtusa consulting services pvt. ltd.\n",
      "Skills Required: python, java, debugging, communication, self starter, job posting\n",
      "Date Posted: Posted few days ago\n",
      "Apply Link: https://www.timesjobs.com/job-detail/python-virtusa-consulting-services-pvt-ltd-6-to-9-yrs-jobid-y0uIgU9wNkpzpSvf__PLUS__uAgZw==&source=srp\n",
      "\n",
      "2. Company name: Virtusa consulting services pvt. ltd.\n",
      "Skills Required:   python development, java, debugging, problem solving, communication skills , css\n",
      "Date Posted: Posted few days ago\n",
      "Apply Link: https://www.timesjobs.com/job-detail/python-virtusa-consulting-services-pvt-ltd-4-to-5-yrs-jobid-XguO8H2brt5zpSvf__PLUS__uAgZw==&source=srp\n",
      "\n",
      "3. Company name: Virtusa consulting services pvt. ltd.\n",
      "Skills Required: python development, java proficiency, debugging skills, problem solving, communication skills, job posting\n",
      "Date Posted: Posted few days ago\n",
      "Apply Link: https://www.timesjobs.com/job-detail/python-virtusa-consulting-services-pvt-ltd-4-to-6-yrs-jobid-VS__SLASH__PexBPRktzpSvf__PLUS__uAgZw==&source=srp\n",
      "\n",
      "4. Company name: Virtusa consulting services pvt. ltd.\n",
      "Skills Required: python development, software development, debugging, problem solving, communication skills, job posting\n",
      "Date Posted: Posted few days ago\n",
      "Apply Link: https://www.timesjobs.com/job-detail/python-virtusa-consulting-services-pvt-ltd-4-to-5-yrs-jobid-8jw8KkxnfAxzpSvf__PLUS__uAgZw==&source=srp\n",
      "\n",
      "5. Company name: Virtusa consulting services pvt. ltd.\n",
      "Skills Required:   python development, software development, debugging skills, problem solving, communication skills , css, software engineer\n",
      "Date Posted: Posted few days ago\n",
      "Apply Link: https://www.timesjobs.com/job-detail/python-virtusa-consulting-services-pvt-ltd-5-to-8-yrs-jobid-3yWydZwNeVFzpSvf__PLUS__uAgZw==&source=srp\n",
      "\n",
      "6. Company name: Connecting 2 work\n",
      "Skills Required: rest, python, django, mongodb\n",
      "Date Posted: Posted few days ago\n",
      "Apply Link: https://www.timesjobs.com/job-detail/python-trainer-connecting-2-work-calicut-kozhikode-0-to-3-yrs-jobid-MFJXBwZBWVhzpSvf__PLUS__uAgZw==&source=srp\n",
      "\n",
      "7. Company name: East india securities ltd.\n",
      "Skills Required: python, hadoop, machine learning\n",
      "Date Posted: Posted few days ago\n",
      "Apply Link: https://www.timesjobs.com/job-detail/python-engineer-east-india-securities-ltd-kolkata-2-to-5-yrs-jobid-O9JSjUglX3hzpSvf__PLUS__uAgZw==&source=srp\n",
      "\n",
      "8. Company name: Zenga tv\n",
      "Skills Required: python, django, html5, javascript\n",
      "Date Posted: Posted few days ago\n",
      "Apply Link: https://www.timesjobs.com/job-detail/python-developer-zenga-tv-gurgaon-2-to-5-yrs-jobid-cQGeFhRqgNdzpSvf__PLUS__uAgZw==&source=srp\n",
      "\n",
      "9. Company name: Datagrid solutions\n",
      "Skills Required: python, database, django, mysql, api\n",
      "Date Posted: Posted few days ago\n",
      "Apply Link: https://www.timesjobs.com/job-detail/python-developer-datagrid-solutions-mumbai-2-to-3-yrs-jobid-hdLfInxHIFxzpSvf__PLUS__uAgZw==&source=srp\n",
      "\n",
      "10. Company name: Infinity group\n",
      "Skills Required: python, css, django, html, bootstrap\n",
      "Date Posted: Posted few days ago\n",
      "Apply Link: https://www.timesjobs.com/job-detail/python-developer-infinity-group-noida-greater-noida-2-to-5-yrs-jobid-WKzksjq__PLUS__GXxzpSvf__PLUS__uAgZw==&source=srp\n",
      "\n",
      "11. Company name: Dreamajax technologies\n",
      "Skills Required: python, django, api, sql, nosql\n",
      "Date Posted: Posted few days ago\n",
      "Apply Link: https://www.timesjobs.com/job-detail/python-developer-dreamajax-technologies-bengaluru-bangalore-4-to-7-yrs-jobid-55iKtddZNCdzpSvf__PLUS__uAgZw==&source=srp\n",
      "\n",
      "12. Company name: 3ri technologies pvt ltd\n",
      "Skills Required: python, Pandas, PyQt5, Matplotlib, Openpyxl\n",
      "Date Posted: Posted few days ago\n",
      "Apply Link: https://www.timesjobs.com/job-detail/python-programmer-3ri-technologies-pvt-ltd-pune-0-to-1-yrs-jobid-KCSVZHaFaptzpSvf__PLUS__uAgZw==&source=srp\n",
      "\n",
      "13. Company name: Connecting 2 work\n",
      "Skills Required: python, storage, django, testing tools, debugging\n",
      "Date Posted: Posted few days ago\n",
      "Apply Link: https://www.timesjobs.com/job-detail/python-developer-connecting-2-work-thiruvananthapuram-5-to-10-yrs-jobid-15ymTnn475xzpSvf__PLUS__uAgZw==&source=srp\n",
      "\n"
     ]
    }
   ],
   "source": [
    "html_text = requests.get(link)\n",
    "soup2 = BeautifulSoup(html_text.text,\"lxml\")\n",
    "\n",
    "full_section= soup2.find(name=\"div\",class_=\"inside-rhs main-search-block\")\n",
    "job_section = full_section.find_all(name=\"li\", class_=\"clearfix job-bx wht-shd-bx\")\n",
    "skill_to_remove = input(\"Enter a skill you want to filter out:\")\n",
    "print()\n",
    "sl_no=1\n",
    "for job in job_section:\n",
    "    published_date= job.find(name=\"span\",class_=\"sim-posted\").text.strip()\n",
    "    \n",
    "    if \"few\" in published_date:           #filteration         # here I have made sure only latest jobs appear\n",
    "        \n",
    "        skills_list = job.find(name=\"span\", class_=\"srp-skills\").text.strip().replace(\"**\",\"\").replace('\\n',\", \")\n",
    "        \n",
    "        if skill_to_remove not  in skills_list:        #filteration    \n",
    "            # here I have add this filteration just to make sure that only relevant jobs appears after filtering out skills which I don't know\n",
    "        \n",
    "            company_name = job.find(name=\"h3\", class_=\"joblist-comp-name\").text.strip()\n",
    "            apply_link=job.find(name=\"header\", class_=\"clearfix\").h2.a.get(\"href\")\n",
    "            \n",
    "            print(f\"{sl_no}. Company name: {company_name.capitalize()}\\nSkills Required: {skills_list}\\nDate Posted: {published_date}\")\n",
    "            print(f\"Apply Link:\", apply_link)\n",
    "            print()\n",
    "            sl_no=sl_no+1"
   ]
  },
  {
   "cell_type": "code",
   "execution_count": null,
   "id": "453f8e54-cc5b-4e88-9378-e80951e0a154",
   "metadata": {},
   "outputs": [],
   "source": []
  }
 ],
 "metadata": {
  "kernelspec": {
   "display_name": "Python 3 (ipykernel)",
   "language": "python",
   "name": "python3"
  },
  "language_info": {
   "codemirror_mode": {
    "name": "ipython",
    "version": 3
   },
   "file_extension": ".py",
   "mimetype": "text/x-python",
   "name": "python",
   "nbconvert_exporter": "python",
   "pygments_lexer": "ipython3",
   "version": "3.11.7"
  }
 },
 "nbformat": 4,
 "nbformat_minor": 5
}
